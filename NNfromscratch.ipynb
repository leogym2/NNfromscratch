{
 "cells": [
  {
   "cell_type": "markdown",
   "metadata": {},
   "source": [
    "I'm creating a Neural Network form scratch (without Tensorflow/Keras/Pytorch) to understand better the math behind it. <br><br>\n",
    "I want to keep everything as simple as possible.\n",
    "The architeture:\n",
    "* 1 input layer made of 784 neurons\n",
    "* 1 hidden layer made of 10 neurons\n",
    "* 1 output layer made of 10 neurons\n",
    "\n",
    "The principal component:\n",
    "* Dataset: MNIST dataset\n",
    "* Cost function: $\\text{MAE} = \\frac{1}{n} \\sum_{i=1}^{n} | y_i - \\hat{y}_i |$\n",
    "* Optimization procedure: gradient descent\n",
    "* Model: ANN\n",
    "\n",
    "Other components:\n",
    "* Activation function: ReLu and SoftMax\n",
    "\n",
    "\n",
    "(A quick review) A Deep learning approach is divided in 4 main phases:\n",
    "* Inizialization of the paramters: random inizializations of the Bias and Weigths\n",
    "* Forward propagation: takes the input data, it multiplies it to the corrispondent weights and add the bias.\n",
    "* Backward propagation: Calculate the Cost (how much i've been wrong) and how much each Weight and Bias is in charge of that error.\n",
    "* Parameters update: Update the Weights and Bias according to the optimization procedure"
   ]
  },
  {
   "cell_type": "markdown",
   "metadata": {},
   "source": [
    "INIZIALIZATION"
   ]
  },
  {
   "cell_type": "code",
   "execution_count": 2,
   "metadata": {},
   "outputs": [],
   "source": [
    "import pandas as pd\n",
    "import numpy as np\n",
    "import matplotlib.pyplot as plt"
   ]
  },
  {
   "cell_type": "code",
   "execution_count": 3,
   "metadata": {},
   "outputs": [],
   "source": [
    "#Split the data into train and test.\n",
    "#The data_train_y is the response variable made of 42000x1\n",
    "#The data_train_x are the covariate and its made of 4200x784\n",
    "\n",
    "data_train = pd.read_csv(\"train.csv\")\n",
    "data_test = pd.read_csv(\"test.csv\")\n",
    "\n",
    "data_train_y = data_train.iloc[:, [0]]\n",
    "data_train_x = data_train.iloc[:, 1:]  "
   ]
  },
  {
   "cell_type": "code",
   "execution_count": 4,
   "metadata": {},
   "outputs": [],
   "source": [
    "#First i have to create the Weights.<br>\n",
    "#The weights of the first layer are 10 for each input neuron, so i expect to create a matrix of 784x10.\n",
    "#The code randn take number from a standard distribution (mean=0 and sd=1), while 0.01 scale down.\n",
    "#After that i create the bias, they are only zeros, they are one per neuron, so 1x10<br><br>\n",
    "#do the same for W2 and b2\n",
    "\n",
    "W1 = np.random.randn(784,10) * 0.01\n",
    "b1 = np.zeros((1, 10)) \n",
    "W2 = np.random.randn(10,10) * 0.01\n",
    "b2 = np.zeros((1, 10)) \n",
    "\n",
    "#Activation function\n",
    "def relu(x):\n",
    "    return np.maximum(0, x)  # ReLU: f(x) = max(0, x)\n",
    "\n",
    "\n",
    "#This is the softmax, which is used to transform the number in probabilities during the last layer of neurons\n",
    "def softmax(x):\n",
    "        # Subtracting max value for numerical stability\n",
    "    exp_x = np.exp(x - np.max(x, axis=1, keepdims=True))\n",
    "    \n",
    "    # Avoid division by zero (or too small sums that result in zero)\n",
    "    exp_x_sum = exp_x.sum(axis=1, keepdims=True)\n",
    "    if np.any(exp_x_sum == 0):  # Check if any sum is zero\n",
    "        print(\"Warning: Zero sum encountered in softmax\")\n",
    "\n",
    "    return exp_x / exp_x_sum"
   ]
  },
  {
   "cell_type": "markdown",
   "metadata": {},
   "source": [
    "FORWARD PHASE"
   ]
  },
  {
   "cell_type": "code",
   "execution_count": 5,
   "metadata": {},
   "outputs": [],
   "source": [
    "def forward(X, W1, b1, W2, b2):\n",
    "    # Prima passata (input -> hidden)\n",
    "    Z1 = np.dot(X, W1) + b1  # Produttivo scalare\n",
    "    A1 = relu(Z1)             # Funzione di attivazione ReLU\n",
    "\n",
    "    # Seconda passata (hidden -> output)\n",
    "    Z2 = np.dot(A1, W2) + b2  # Produttivo scalare\n",
    "    A2 = softmax(Z2)          # Funzione di attivazione Softmax (per output)\n",
    "\n",
    "    return A1, A2, Z1, Z2  # Restituiamo le attivazioni del hidden layer e del layer di output"
   ]
  },
  {
   "cell_type": "code",
   "execution_count": 6,
   "metadata": {},
   "outputs": [],
   "source": [
    "X = data_train_x\n",
    "A1, A2, Z1, Z2 = forward(X, W1, b1, W2, b2)"
   ]
  },
  {
   "cell_type": "markdown",
   "metadata": {},
   "source": [
    "CALCULATE THE MAE (COST)"
   ]
  },
  {
   "cell_type": "code",
   "execution_count": 7,
   "metadata": {},
   "outputs": [
    {
     "data": {
      "text/plain": [
       "0.180560113710955"
      ]
     },
     "execution_count": 7,
     "metadata": {},
     "output_type": "execute_result"
    }
   ],
   "source": [
    "# One-hot encode:\n",
    "labels = data_train_y.to_numpy().flatten()  # shape: (42000,)\n",
    "num_classes = 10  # for MNIST\n",
    "one_hot = np.eye(num_classes)[labels]  # shape: (42000, 10)\n",
    "cost = np.mean(np.abs(A2 - one_hot))\n",
    "cost"
   ]
  },
  {
   "cell_type": "markdown",
   "metadata": {},
   "source": [
    "Now i have a cost function that i have to minimize:<br><br>\n",
    "![ALT_TEXT_FOR_SCREEN_READERS](cost_function.jpg)  \n",
    "\n",
    "This is just an example of cost function."
   ]
  },
  {
   "cell_type": "markdown",
   "metadata": {},
   "source": [
    "BACKPROPAGATION"
   ]
  },
  {
   "cell_type": "code",
   "execution_count": 8,
   "metadata": {},
   "outputs": [],
   "source": [
    "dA2 = np.sign(A2 - one_hot) / (42000 * num_classes)\n",
    "dW2 = np.dot(A1.T, dA2)\n",
    "db2 = np.sum(dA2, axis=0, keepdims=True)\n",
    "dA1 = np.dot(dA2, W2.T)\n",
    "dW1 = np.dot(X.T, dA1 * (Z1 > 0))  # Derivative of ReLU (Z1 > 0 means ReLU activation)\n",
    "db1 = np.sum(dA1 * (Z1 > 0), axis=0, keepdims=True)\n",
    "\n",
    "\n",
    "learning_rate=0.01\n",
    "W1 -= learning_rate * dW1\n",
    "b1 -= learning_rate * db1\n",
    "W2 -= learning_rate * dW2\n",
    "b2 -= learning_rate * db2"
   ]
  },
  {
   "cell_type": "markdown",
   "metadata": {},
   "source": [
    "Now i can re-run the forward to see if the loss function have a lower value"
   ]
  },
  {
   "cell_type": "code",
   "execution_count": 9,
   "metadata": {},
   "outputs": [
    {
     "data": {
      "text/plain": [
       "0.17881680732117886"
      ]
     },
     "execution_count": 9,
     "metadata": {},
     "output_type": "execute_result"
    }
   ],
   "source": [
    "A1, A2, Z1, Z2 = forward(X, W1, b1, W2, b2)\n",
    "cost_updated = np.mean(np.abs(A2 - one_hot))\n",
    "cost_updated"
   ]
  },
  {
   "cell_type": "markdown",
   "metadata": {},
   "source": [
    "Let's automate it"
   ]
  },
  {
   "cell_type": "code",
   "execution_count": 10,
   "metadata": {},
   "outputs": [],
   "source": [
    "def train(X, one_hot, W1, b1, W2, b2, epochs, lr):\n",
    "\n",
    "    losses = []\n",
    "    \n",
    "    # Loop for the specified number of epochs\n",
    "    for epoch in range(epochs):\n",
    "\n",
    "        # === Forward Pass ===\n",
    "        A1, A2, Z1, Z2 = forward(X, W1, b1, W2, b2)\n",
    "        \n",
    "        # === Backpropagation ===\n",
    "        # Derivative of MAE wrt A2\n",
    "        dA2 = np.where(A2 > one_hot, 1, -1) / A2.shape[0]  # shape: (batch_size, 10)\n",
    "        dZ2 = dA2\n",
    "        \n",
    "        # Gradients for weights and biases of output layer\n",
    "        dW2 = A1.T @ dZ2  # shape: (10, 10)\n",
    "        db2 = np.sum(dZ2, axis=0).reshape(1, -1)  # shape: (1, 10)\n",
    "\n",
    "        # Backprop to hidden layer\n",
    "        dA1 = dZ2 @ W2.T  # shape: (batch_size, 10)\n",
    "        dZ1 = dA1 * (A1 > 0)  # ReLU derivative\n",
    "\n",
    "        # Gradients for weights and biases of hidden layer\n",
    "        dW1 = X.T @ dZ1  # shape: (784, 10)\n",
    "        db1 = np.sum(dZ1, axis=0).reshape(1, -1)  # shape: (1, 10)\n",
    "\n",
    "        # === Gradient Descent Update ===\n",
    "        W2 -= lr * dW2\n",
    "        b2 -= lr * db2\n",
    "        W1 -= lr * dW1\n",
    "        b1 -= lr * db1\n",
    "        \n",
    "        # === Loss Calculation (MAE) ===\n",
    "        loss = np.mean(np.abs(A2 - one_hot))  # Mean Absolute Error\n",
    "        losses.append(loss)\n",
    "        \n",
    "        # === Print Loss After Each Epoch ===\n",
    "        print(f\"Epoch {epoch+1}/{epochs}, Loss: {loss:.4f}\")\n",
    "\n",
    "      # === Plot della loss ===\n",
    "    plt.plot (losses,marker=\"o\")\n",
    "    plt.xlabel(\"Epoch\")\n",
    "    plt.ylabel(\"MAE Loss\")\n",
    "    plt.show()\n",
    "    \n",
    "    return W1, b1, W2, b2\n"
   ]
  },
  {
   "cell_type": "code",
   "execution_count": 11,
   "metadata": {},
   "outputs": [
    {
     "name": "stdout",
     "output_type": "stream",
     "text": [
      "Epoch 1/50, Loss: 0.1788\n",
      "Epoch 2/50, Loss: 0.1780\n",
      "Epoch 3/50, Loss: 0.1809\n",
      "Epoch 4/50, Loss: 0.1803\n",
      "Epoch 5/50, Loss: 0.1820\n",
      "Epoch 6/50, Loss: 0.1800\n",
      "Epoch 7/50, Loss: 0.1800\n",
      "Epoch 8/50, Loss: 0.1799\n",
      "Epoch 9/50, Loss: 0.1798\n",
      "Epoch 10/50, Loss: 0.1794\n",
      "Epoch 11/50, Loss: 0.1783\n",
      "Epoch 12/50, Loss: 0.1791\n",
      "Epoch 13/50, Loss: 0.1777\n",
      "Epoch 14/50, Loss: 0.1806\n",
      "Epoch 15/50, Loss: 0.1807\n",
      "Epoch 16/50, Loss: 0.1800\n",
      "Epoch 17/50, Loss: 0.1800\n",
      "Epoch 18/50, Loss: 0.1800\n",
      "Epoch 19/50, Loss: 0.1800\n",
      "Epoch 20/50, Loss: 0.1800\n",
      "Epoch 21/50, Loss: 0.1800\n",
      "Epoch 22/50, Loss: 0.1799\n",
      "Epoch 23/50, Loss: 0.1799\n",
      "Epoch 24/50, Loss: 0.1801\n",
      "Epoch 25/50, Loss: 0.1797\n",
      "Epoch 26/50, Loss: 0.1793\n",
      "Epoch 27/50, Loss: 0.1793\n",
      "Epoch 28/50, Loss: 0.1807\n",
      "Epoch 29/50, Loss: 0.1800\n",
      "Epoch 30/50, Loss: 0.1800\n",
      "Epoch 31/50, Loss: 0.1800\n",
      "Epoch 32/50, Loss: 0.1800\n",
      "Epoch 33/50, Loss: 0.1800\n",
      "Epoch 34/50, Loss: 0.1800\n",
      "Epoch 35/50, Loss: 0.1800\n",
      "Epoch 36/50, Loss: 0.1800\n",
      "Epoch 37/50, Loss: 0.1800\n",
      "Epoch 38/50, Loss: 0.1800\n",
      "Epoch 39/50, Loss: 0.1800\n",
      "Epoch 40/50, Loss: 0.1800\n",
      "Epoch 41/50, Loss: 0.1800\n",
      "Epoch 42/50, Loss: 0.1800\n",
      "Epoch 43/50, Loss: 0.1800\n",
      "Epoch 44/50, Loss: 0.1800\n",
      "Epoch 45/50, Loss: 0.1800\n",
      "Epoch 46/50, Loss: 0.1800\n",
      "Epoch 47/50, Loss: 0.1800\n",
      "Epoch 48/50, Loss: 0.1800\n",
      "Epoch 49/50, Loss: 0.1800\n",
      "Epoch 50/50, Loss: 0.1800\n"
     ]
    },
    {
     "data": {
      "image/png": "[encoded data removed]",
      "text/plain": [
       "<Figure size 640x480 with 1 Axes>"
      ]
     },
     "metadata": {},
     "output_type": "display_data"
    },
    {
     "data": {
      "text/plain": [
       "(                 0         1         2         3         4         5  \\\n",
       " pixel0    0.010810 -0.002432 -0.002299 -0.001341 -0.001472  0.009401   \n",
       " pixel1    0.002141  0.004367 -0.006007 -0.000127 -0.011714  0.007155   \n",
       " pixel2   -0.018482 -0.003971 -0.000258 -0.018673  0.016567 -0.013729   \n",
       " pixel3    0.006640 -0.016909 -0.005945  0.014790 -0.000748  0.010802   \n",
       " pixel4    0.001161 -0.002662 -0.006541  0.010412  0.000229 -0.004209   \n",
       " ...            ...       ...       ...       ...       ...       ...   \n",
       " pixel779  0.007549  0.009066  0.009320 -0.010104 -0.014365 -0.016896   \n",
       " pixel780  0.008524 -0.006723  0.009792 -0.002332 -0.000532 -0.003268   \n",
       " pixel781  0.000280  0.011370  0.003455 -0.019096  0.018959  0.020583   \n",
       " pixel782  0.000963  0.001932  0.007198  0.012888 -0.012104  0.014381   \n",
       " pixel783  0.008507 -0.007718  0.001162 -0.012227 -0.004127 -0.020405   \n",
       " \n",
       "                  6         7         8         9  \n",
       " pixel0    0.012846  0.008543 -0.000167  0.011125  \n",
       " pixel1    0.003369 -0.015526  0.003808 -0.000899  \n",
       " pixel2    0.011708 -0.002433  0.000363 -0.000045  \n",
       " pixel3    0.010808 -0.006987 -0.016458  0.005629  \n",
       " pixel4   -0.012404  0.006393  0.019798 -0.001616  \n",
       " ...            ...       ...       ...       ...  \n",
       " pixel779 -0.019497 -0.005517 -0.011147 -0.004672  \n",
       " pixel780 -0.007460  0.009113 -0.000170  0.004441  \n",
       " pixel781 -0.011072 -0.000433  0.009639  0.000330  \n",
       " pixel782 -0.031447  0.013839  0.002476 -0.005941  \n",
       " pixel783  0.012970  0.002518  0.006768 -0.000418  \n",
       " \n",
       " [784 rows x 10 columns],\n",
       " array([[-3.04831358e-02, -3.50902068e-04, -2.18707371e-02,\n",
       "         -5.63612781e-05, -2.15475810e-03, -1.08923066e-03,\n",
       "         -2.45071528e-04, -1.64494741e-04, -8.35377034e-03,\n",
       "         -2.80752408e-02]]),\n",
       " array([[-4.69142072e+00,  4.05271198e+00, -4.41749541e-02,\n",
       "         -4.63792432e+00,  4.04978339e+00,  4.01535053e+00,\n",
       "         -2.75483999e+00,  3.88541967e+00, -4.66577808e+00,\n",
       "          3.47390178e+00],\n",
       "        [-3.86900810e-02,  2.23047645e-02,  4.35789995e-02,\n",
       "         -3.93646186e-02,  2.39143118e-02,  1.75193186e-02,\n",
       "          8.59320640e-04, -5.26183521e-03, -3.84256286e-02,\n",
       "          6.16356804e-02],\n",
       "        [-4.98294321e+00,  4.14795346e+00, -5.30913221e-01,\n",
       "         -4.94233360e+00,  4.08083241e+00,  4.06993785e+00,\n",
       "         -3.12857996e+00,  3.90155074e+00, -4.94504728e+00,\n",
       "          2.88650810e+00],\n",
       "        [-2.42259796e-01,  2.28057151e-01, -4.99647350e-02,\n",
       "         -2.72472046e-01,  2.13376302e-01,  2.03894616e-01,\n",
       "         -1.62254786e-01,  1.88887248e-01, -2.60179244e-01,\n",
       "          1.36656757e-01],\n",
       "        [-1.20044454e+01,  9.55364933e+00, -7.83669602e+00,\n",
       "         -1.20741771e+01,  9.58113744e+00,  9.57312503e+00,\n",
       "          9.02757011e+00,  9.53735081e+00, -1.19275413e+01,\n",
       "          8.19681467e+00],\n",
       "        [-2.24964041e-01,  2.04600210e-01,  1.03302838e-02,\n",
       "         -2.23928062e-01,  1.85789532e-01,  1.87913315e-01,\n",
       "         -1.40118501e-01,  1.79335126e-01, -2.30081112e-01,\n",
       "          1.47683992e-01],\n",
       "        [ 1.76133185e-01,  1.95425343e-01,  2.12571970e-01,\n",
       "          1.74251672e-01,  1.85139226e-01,  1.91472397e-01,\n",
       "          2.00456823e-01,  1.79034537e-01, -2.37661651e-01,\n",
       "          1.87902255e-01],\n",
       "        [-3.45495730e-01,  3.05773671e-01, -7.90234712e-02,\n",
       "         -3.69026973e-01,  2.77917068e-01,  2.92169722e-01,\n",
       "         -2.40262350e-01,  2.45543079e-01, -3.54263116e-01,\n",
       "          1.78212412e-01],\n",
       "        [-8.34829536e+00,  6.71838405e+00, -1.30299421e+00,\n",
       "         -8.31666848e+00,  6.61716850e+00,  6.67019017e+00,\n",
       "         -5.42493811e+00,  6.30984550e+00, -8.35918409e+00,\n",
       "          4.14185953e+00],\n",
       "        [ 1.52944882e+01,  1.74650366e+01,  1.77755125e+01,\n",
       "          1.54452175e+01,  1.76112486e+01,  1.75685257e+01,\n",
       "          1.77332941e+01,  1.76126875e+01, -2.19228320e+01,\n",
       "          1.77106039e+01]]),\n",
       " array([[-0.03756881, -0.03429386, -0.03647748, -0.03710795, -0.03572505,\n",
       "         -0.03633105, -0.03548552, -0.03505695, -0.03939795, -0.03470067]]))"
      ]
     },
     "execution_count": 11,
     "metadata": {},
     "output_type": "execute_result"
    }
   ],
   "source": [
    "train(X, one_hot, W1, b1, W2, b2, 50, 0.001)"
   ]
  }
 ],
 "metadata": {
  "kernelspec": {
   "display_name": "Python 3",
   "language": "python",
   "name": "python3"
  },
  "language_info": {
   "codemirror_mode": {
    "name": "ipython",
    "version": 3
   },
   "file_extension": ".py",
   "mimetype": "text/x-python",
   "name": "python",
   "nbconvert_exporter": "python",
   "pygments_lexer": "ipython3",
   "version": "3.12.3"
  }
 },
 "nbformat": 4,
 "nbformat_minor": 2
}
